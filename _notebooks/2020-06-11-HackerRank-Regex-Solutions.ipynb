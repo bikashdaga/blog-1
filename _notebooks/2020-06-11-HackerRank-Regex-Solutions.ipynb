{
 "cells": [
  {
   "cell_type": "markdown",
   "metadata": {},
   "source": [
    "# HackerRank Regex Solutions\n",
    "> My solutions to regex problems on HackerRank\n",
    "- toc: false\n",
    "- branch: master\n",
    "- badges: true\n",
    "- author: Mayukh Datta\n",
    "- permalink: /hackerrank-regex-solutions/\n",
    "- comments: true\n",
    "- image: https://raw.githubusercontent.com/thecoducer/blog/master/images/regex-img.jpeg\n",
    "- categories: [regex]\n",
    "- hide: false"
   ]
  },
  {
   "cell_type": "markdown",
   "metadata": {},
   "source": [
    "![](https://raw.githubusercontent.com/thecoducer/blog/master/images/regex-img.jpeg)"
   ]
  },
  {
   "cell_type": "markdown",
   "metadata": {},
   "source": [
    "# Problems"
   ]
  },
  {
   "cell_type": "markdown",
   "metadata": {},
   "source": [
    "## Backreferences"
   ]
  },
  {
   "cell_type": "markdown",
   "metadata": {},
   "source": [
    "### 1. Backreferences To Failed Groups\n",
    "https://www.hackerrank.com/challenges/backreferences-to-failed-groups/problem"
   ]
  },
  {
   "cell_type": "code",
   "execution_count": 1,
   "metadata": {
    "ExecuteTime": {
     "end_time": "2020-06-11T16:08:50.342824Z",
     "start_time": "2020-06-11T16:08:35.269736Z"
    },
    "scrolled": true
   },
   "outputs": [
    {
     "name": "stdout",
     "output_type": "stream",
     "text": [
      "12-34-56-87\n",
      "true\n"
     ]
    }
   ],
   "source": [
    "Regex_Pattern = r\"^\\d{2}(-?)(\\d{2}\\1){2}\\d{2}$\"\t\n",
    "\n",
    "import re\n",
    "\n",
    "print(str(bool(re.search(Regex_Pattern, input()))).lower())"
   ]
  },
  {
   "cell_type": "markdown",
   "metadata": {},
   "source": [
    "### 2. Forward References\n",
    "https://www.hackerrank.com/challenges/forward-references/problem"
   ]
  },
  {
   "cell_type": "markdown",
   "metadata": {},
   "source": [
    "Perl code:\n",
    "\n",
    "```perl\n",
    "$Regex_Pattern = '^(\\2tic|(tac))+$';\n",
    "\n",
    "$Test_String = <STDIN> ;\n",
    "if($Test_String =~ /$Regex_Pattern/){\n",
    "    print \"true\";\n",
    "} else {\n",
    "    print \"false\";\n",
    "}\n",
    "```\n",
    "\n",
    "Without using forward reference: `^tac(tac(tic)?)*$`"
   ]
  },
  {
   "cell_type": "markdown",
   "metadata": {},
   "source": [
    "## Grouping and Capturing"
   ]
  },
  {
   "cell_type": "markdown",
   "metadata": {},
   "source": [
    "### 1. Matching Word Boundaries\n",
    "https://www.hackerrank.com/challenges/matching-word-boundaries/problem"
   ]
  },
  {
   "cell_type": "code",
   "execution_count": 2,
   "metadata": {
    "ExecuteTime": {
     "end_time": "2020-06-11T20:12:04.771326Z",
     "start_time": "2020-06-11T20:11:48.125199Z"
    }
   },
   "outputs": [
    {
     "name": "stdout",
     "output_type": "stream",
     "text": [
      "found3 isdvnslknc98098sdcsdbc\n",
      "false\n"
     ]
    }
   ],
   "source": [
    "Regex_Pattern = r'\\b[aeiouAEIOU][a-zA-Z]*\\b'\n",
    "\n",
    "import re\n",
    "\n",
    "print(str(bool(re.search(Regex_Pattern, input()))).lower())"
   ]
  },
  {
   "cell_type": "markdown",
   "metadata": {},
   "source": [
    "### 2. Alternative Matching\n",
    "https://www.hackerrank.com/challenges/alternative-matching/problem"
   ]
  },
  {
   "cell_type": "code",
   "execution_count": 3,
   "metadata": {
    "ExecuteTime": {
     "end_time": "2020-06-11T20:15:18.587410Z",
     "start_time": "2020-06-11T20:14:57.659261Z"
    }
   },
   "outputs": [
    {
     "name": "stdout",
     "output_type": "stream",
     "text": [
      "Mrs.DOSHI\n",
      "true\n"
     ]
    }
   ],
   "source": [
    "Regex_Pattern = r'^(Mr|Mrs|Ms|Dr|Er)\\.[A-Za-z]{1,}$'\t\n",
    "\n",
    "import re\n",
    "\n",
    "print(str(bool(re.search(Regex_Pattern, input()))).lower())"
   ]
  },
  {
   "cell_type": "markdown",
   "metadata": {},
   "source": [
    "## Character Classes"
   ]
  },
  {
   "cell_type": "markdown",
   "metadata": {},
   "source": [
    "### 1. Matching Character Ranges\n",
    "https://www.hackerrank.com/challenges/matching-range-of-characters/problem"
   ]
  },
  {
   "cell_type": "code",
   "execution_count": 5,
   "metadata": {
    "ExecuteTime": {
     "end_time": "2020-06-11T20:19:35.795442Z",
     "start_time": "2020-06-11T20:19:33.839697Z"
    }
   },
   "outputs": [
    {
     "name": "stdout",
     "output_type": "stream",
     "text": [
      " q9$?WWe\n",
      "false\n"
     ]
    }
   ],
   "source": [
    "Regex_Pattern = r'^[a-z][1-9][^a-z][^A-Z][A-Z]'\n",
    "\n",
    "import re\n",
    "\n",
    "print(str(bool(re.search(Regex_Pattern, input()))).lower())"
   ]
  },
  {
   "cell_type": "markdown",
   "metadata": {},
   "source": [
    "## Applications"
   ]
  },
  {
   "cell_type": "markdown",
   "metadata": {},
   "source": [
    "### 1. Detect HTML links\n",
    "https://www.hackerrank.com/challenges/detect-html-links/problem"
   ]
  },
  {
   "cell_type": "code",
   "execution_count": 11,
   "metadata": {
    "ExecuteTime": {
     "end_time": "2020-06-11T20:39:07.348361Z",
     "start_time": "2020-06-11T20:37:54.279044Z"
    },
    "collapsed": true
   },
   "outputs": [
    {
     "name": "stdout",
     "output_type": "stream",
     "text": [
      "7\n",
      "<ul>\n",
      "<li style=\"-moz-float-edge: content-box\">Former Italian Prime Minister <a href=\"/wiki/Silvio_Berlusconi\" title=\"Silvio Berlusconi\">Silvio Berlusconi</a> <i>(pictured)</i> is <b><a href=\"/wiki/Silvio_Berlusconi_underage_prostitution_charges\" title=\"Silvio Berlusconi underage prostitution charges\">found guilty</a></b> of paying for sex with an underage prostitute.</li>\n",
      "/wiki/Silvio_Berlusconi,Silvio Berlusconi\n",
      "/wiki/Silvio_Berlusconi_underage_prostitution_charges,found guilty\n",
      "<li style=\"-moz-float-edge: content-box\">In sports car racing, the <b><a href=\"/wiki/2013_24_Hours_of_Le_Mans\" title=\"2013 24 Hours of Le Mans\">24 Hours of Le Mans</a></b>, won by <a href=\"/wiki/Tom_Kristensen\" title=\"Tom Kristensen\">Tom Kristensen</a>, <a href=\"/wiki/Allan_McNish\" title=\"Allan McNish\">Allan McNish</a> and <a href=\"/wiki/Lo%C3%AFc_Duval\" title=\"Loc Duval\">Loc Duval</a>, is marred by the death of <b><a href=\"/wiki/Allan_Simonsen_(racing_driver)\" title=\"Allan Simonsen (racing driver)\">Allan Simonsen</a></b>.</li>\n",
      "/wiki/2013_24_Hours_of_Le_Mans,24 Hours of Le Mans\n",
      "/wiki/Tom_Kristensen,Tom Kristensen\n",
      "/wiki/Allan_McNish,Allan McNish\n",
      "/wiki/Lo%C3%AFc_Duval,Loc Duval\n",
      "/wiki/Allan_Simonsen_(racing_driver),Allan Simonsen\n",
      "<li style=\"-moz-float-edge: content-box\"><b><a href=\"/wiki/2013_Alberta_floods\" title=\"2013 Alberta floods\">Flooding</a></b> in <a href=\"/wiki/Alberta\" title=\"Alberta\">Alberta</a>, Canada, results in at least three deaths and the evacuation of thousands.</li>\n",
      "/wiki/2013_Alberta_floods,Flooding\n",
      "/wiki/Alberta,Alberta\n",
      "<li style=\"-moz-float-edge: content-box\"><b><a href=\"/wiki/2013_North_India_floods\" title=\"2013 North India floods\">Flash floods and landslides</a></b> in <a href=\"/wiki/Uttarakhand\" title=\"Uttarakhand\">Uttarakhand</a> and <a href=\"/wiki/Himachal_Pradesh\" title=\"Himachal Pradesh\">Himachal Pradesh</a> in India kill more than <span class=\"nowrap\">1,000 people</span> and trap more than 20,000.</li>\n",
      "/wiki/2013_North_India_floods,Flash floods and landslides\n",
      "/wiki/Uttarakhand,Uttarakhand\n",
      "/wiki/Himachal_Pradesh,Himachal Pradesh\n",
      "<li style=\"-moz-float-edge: content-box\">In <a href=\"/wiki/Basketball\" title=\"Basketball\">basketball</a>, the <a href=\"/wiki/Miami_Heat\" title=\"Miami Heat\">Miami Heat</a> defeat the <a href=\"/wiki/San_Antonio_Spurs\" title=\"San Antonio Spurs\">San Antonio Spurs</a> to win the <b><a href=\"/wiki/2013_NBA_Finals\" title=\"2013 NBA Finals\">NBA Finals</a></b>.</li>\n",
      "/wiki/Basketball,basketball\n",
      "/wiki/Miami_Heat,Miami Heat\n",
      "/wiki/San_Antonio_Spurs,San Antonio Spurs\n",
      "/wiki/2013_NBA_Finals,NBA Finals\n",
      "</ul>\n"
     ]
    }
   ],
   "source": [
    "import re\n",
    "for i in range(int(input().strip())):\n",
    "    data = input().strip()\n",
    "    matches = re.findall(r'[^<]*<a href=\"([^\"]+)\".*?>(?:[^<]<\\w+>)*([^<]*?)(?:<\\/\\w+>)*<\\/a>', data)\n",
    "    if matches: \n",
    "        for m in matches: \n",
    "            print(\"{0},{1}\".format(m[0].strip(), m[1].strip()))"
   ]
  },
  {
   "cell_type": "markdown",
   "metadata": {},
   "source": [
    "### 2. IP Address Validation\n",
    "https://www.hackerrank.com/challenges/ip-address-validation/problem"
   ]
  },
  {
   "cell_type": "code",
   "execution_count": null,
   "metadata": {},
   "outputs": [],
   "source": [
    "import re\n",
    "\n",
    "for i in range(int(input().strip())):\n",
    "    data = input().strip()\n",
    "    match_ipv4 = re.search('^([0-9]|[01]?[0-9][0-9]|2[0-4][0-9]|25[0-5])(\\\\.([0-9]|[01]?[0-9][0-9]|2[0-4][0-9]|25[0-5])){3}$', data)\n",
    "    match_ipv6 = re.search('^([0-9a-fA-F]{1,4})(:([0-9a-fA-F]{1,4})){7}$', data)\n",
    "    \n",
    "    if match_ipv4 == None and match_ipv6 != None:\n",
    "        ip_ver = \"IPv6\"\n",
    "    elif match_ipv4 != None and match_ipv6 == None:\n",
    "        ip_ver = \"IPv4\"\n",
    "    else:\n",
    "        ip_ver = \"Neither\"\n",
    "\n",
    "    print(ip_ver)\n"
   ]
  }
 ],
 "metadata": {
  "kernelspec": {
   "display_name": "Python 3",
   "language": "python",
   "name": "python3"
  },
  "language_info": {
   "codemirror_mode": {
    "name": "ipython",
    "version": 3
   },
   "file_extension": ".py",
   "mimetype": "text/x-python",
   "name": "python",
   "nbconvert_exporter": "python",
   "pygments_lexer": "ipython3",
   "version": "3.7.7"
  },
  "toc": {
   "base_numbering": 1,
   "nav_menu": {},
   "number_sections": true,
   "sideBar": true,
   "skip_h1_title": false,
   "title_cell": "Table of Contents",
   "title_sidebar": "Contents",
   "toc_cell": false,
   "toc_position": {},
   "toc_section_display": true,
   "toc_window_display": false
  }
 },
 "nbformat": 4,
 "nbformat_minor": 4
}
