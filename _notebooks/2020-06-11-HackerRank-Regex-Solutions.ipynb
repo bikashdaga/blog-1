{
 "cells": [
  {
   "cell_type": "markdown",
   "metadata": {},
   "source": [
    "# HackerRank Regex Solutions\n",
    "> My solutions to regex problems on HackerRank\n",
    "- toc: true\n",
    "- branch: master\n",
    "- badges: true\n",
    "- author: Mayukh Datta\n",
    "- permalink: /hackerrank-regex-solutions/\n",
    "- comments: true\n",
    "- image: https://raw.githubusercontent.com/thecoducer/blog/master/images/regex-img.jpeg\n",
    "- categories: [regex]\n",
    "- hide: false"
   ]
  },
  {
   "cell_type": "markdown",
   "metadata": {},
   "source": [
    "![](https://raw.githubusercontent.com/thecoducer/blog/master/images/regex-img.jpeg)"
   ]
  },
  {
   "cell_type": "markdown",
   "metadata": {},
   "source": [
    "# Regex Problems"
   ]
  },
  {
   "cell_type": "markdown",
   "metadata": {},
   "source": [
    "## Backreferences To Failed Groups\n",
    "https://www.hackerrank.com/challenges/backreferences-to-failed-groups/problem"
   ]
  },
  {
   "cell_type": "code",
   "execution_count": 1,
   "metadata": {
    "ExecuteTime": {
     "end_time": "2020-06-11T16:08:50.342824Z",
     "start_time": "2020-06-11T16:08:35.269736Z"
    }
   },
   "outputs": [
    {
     "name": "stdout",
     "output_type": "stream",
     "text": [
      "12-34-56-87\n",
      "true\n"
     ]
    }
   ],
   "source": [
    "Regex_Pattern = r\"^\\d{2}(-?)(\\d{2}\\1){2}\\d{2}$\"\t\n",
    "\n",
    "import re\n",
    "\n",
    "print(str(bool(re.search(Regex_Pattern, input()))).lower())"
   ]
  }
 ],
 "metadata": {
  "kernelspec": {
   "display_name": "Python 3",
   "language": "python",
   "name": "python3"
  },
  "language_info": {
   "codemirror_mode": {
    "name": "ipython",
    "version": 3
   },
   "file_extension": ".py",
   "mimetype": "text/x-python",
   "name": "python",
   "nbconvert_exporter": "python",
   "pygments_lexer": "ipython3",
   "version": "3.7.7"
  },
  "toc": {
   "base_numbering": 1,
   "nav_menu": {},
   "number_sections": true,
   "sideBar": true,
   "skip_h1_title": false,
   "title_cell": "Table of Contents",
   "title_sidebar": "Contents",
   "toc_cell": false,
   "toc_position": {},
   "toc_section_display": true,
   "toc_window_display": false
  }
 },
 "nbformat": 4,
 "nbformat_minor": 4
}
