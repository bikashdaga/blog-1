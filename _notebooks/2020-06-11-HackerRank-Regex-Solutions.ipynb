{
 "cells": [
  {
   "cell_type": "markdown",
   "metadata": {},
   "source": [
    "# HackerRank Regex Solutions\n",
    "> My solutions to regex problems on HackerRank\n",
    "- toc: false\n",
    "- branch: master\n",
    "- badges: true\n",
    "- author: Mayukh Datta\n",
    "- permalink: /hackerrank-regex-solutions/\n",
    "- comments: true\n",
    "- image: https://raw.githubusercontent.com/thecoducer/blog/master/images/regex-img.jpeg\n",
    "- categories: [regex]\n",
    "- hide: false"
   ]
  },
  {
   "cell_type": "markdown",
   "metadata": {},
   "source": [
    "![](https://raw.githubusercontent.com/thecoducer/blog/master/images/regex-img.jpeg)"
   ]
  },
  {
   "cell_type": "markdown",
   "metadata": {},
   "source": [
    "# Problems"
   ]
  },
  {
   "cell_type": "markdown",
   "metadata": {},
   "source": [
    "## Backreferences"
   ]
  },
  {
   "cell_type": "markdown",
   "metadata": {},
   "source": [
    "### 1. Backreferences To Failed Groups\n",
    "https://www.hackerrank.com/challenges/backreferences-to-failed-groups/problem"
   ]
  },
  {
   "cell_type": "code",
   "execution_count": null,
   "metadata": {
    "ExecuteTime": {
     "end_time": "2020-06-11T16:08:50.342824Z",
     "start_time": "2020-06-11T16:08:35.269736Z"
    },
    "scrolled": true
   },
   "outputs": [],
   "source": [
    "Regex_Pattern = r\"^\\d{2}(-?)(\\d{2}\\1){2}\\d{2}$\"\t\n",
    "\n",
    "import re\n",
    "\n",
    "print(str(bool(re.search(Regex_Pattern, input()))).lower())"
   ]
  },
  {
   "cell_type": "markdown",
   "metadata": {},
   "source": [
    "### 2. Forward References\n",
    "https://www.hackerrank.com/challenges/forward-references/problem"
   ]
  },
  {
   "cell_type": "markdown",
   "metadata": {},
   "source": [
    "Perl code:\n",
    "\n",
    "```perl\n",
    "$Regex_Pattern = '^(\\2tic|(tac))+$';\n",
    "\n",
    "$Test_String = <STDIN> ;\n",
    "if($Test_String =~ /$Regex_Pattern/){\n",
    "    print \"true\";\n",
    "} else {\n",
    "    print \"false\";\n",
    "}\n",
    "```\n",
    "\n",
    "Without using forward reference: `^tac(tac(tic)?)*$`"
   ]
  },
  {
   "cell_type": "markdown",
   "metadata": {},
   "source": [
    "## Grouping and Capturing"
   ]
  },
  {
   "cell_type": "markdown",
   "metadata": {},
   "source": [
    "### 1. Matching Word Boundaries\n",
    "https://www.hackerrank.com/challenges/matching-word-boundaries/problem"
   ]
  },
  {
   "cell_type": "code",
   "execution_count": null,
   "metadata": {
    "ExecuteTime": {
     "end_time": "2020-06-11T20:12:04.771326Z",
     "start_time": "2020-06-11T20:11:48.125199Z"
    }
   },
   "outputs": [],
   "source": [
    "Regex_Pattern = r'\\b[aeiouAEIOU][a-zA-Z]*\\b'\n",
    "\n",
    "import re\n",
    "\n",
    "print(str(bool(re.search(Regex_Pattern, input()))).lower())"
   ]
  },
  {
   "cell_type": "markdown",
   "metadata": {},
   "source": [
    "### 2. Alternative Matching\n",
    "https://www.hackerrank.com/challenges/alternative-matching/problem"
   ]
  },
  {
   "cell_type": "code",
   "execution_count": null,
   "metadata": {
    "ExecuteTime": {
     "end_time": "2020-06-11T20:15:18.587410Z",
     "start_time": "2020-06-11T20:14:57.659261Z"
    }
   },
   "outputs": [],
   "source": [
    "Regex_Pattern = r'^(Mr|Mrs|Ms|Dr|Er)\\.[A-Za-z]{1,}$'\t\n",
    "\n",
    "import re\n",
    "\n",
    "print(str(bool(re.search(Regex_Pattern, input()))).lower())"
   ]
  },
  {
   "cell_type": "markdown",
   "metadata": {},
   "source": [
    "## Character Classes"
   ]
  },
  {
   "cell_type": "markdown",
   "metadata": {},
   "source": [
    "### 1. Matching Character Ranges\n",
    "https://www.hackerrank.com/challenges/matching-range-of-characters/problem"
   ]
  },
  {
   "cell_type": "code",
   "execution_count": null,
   "metadata": {
    "ExecuteTime": {
     "end_time": "2020-06-11T20:19:35.795442Z",
     "start_time": "2020-06-11T20:19:33.839697Z"
    }
   },
   "outputs": [],
   "source": [
    "Regex_Pattern = r'^[a-z][1-9][^a-z][^A-Z][A-Z]'\n",
    "\n",
    "import re\n",
    "\n",
    "print(str(bool(re.search(Regex_Pattern, input()))).lower())"
   ]
  },
  {
   "cell_type": "markdown",
   "metadata": {},
   "source": [
    "## Applications"
   ]
  },
  {
   "cell_type": "markdown",
   "metadata": {},
   "source": [
    "### 1. Detect HTML links\n",
    "https://www.hackerrank.com/challenges/detect-html-links/problem"
   ]
  },
  {
   "cell_type": "code",
   "execution_count": null,
   "metadata": {
    "ExecuteTime": {
     "end_time": "2020-06-11T20:39:07.348361Z",
     "start_time": "2020-06-11T20:37:54.279044Z"
    }
   },
   "outputs": [],
   "source": [
    "import re\n",
    "for i in range(int(input().strip())):\n",
    "    data = input().strip()\n",
    "    matches = re.findall(r'[^<]*<a href=\"([^\"]+)\".*?>(?:[^<]<\\w+>)*([^<]*?)(?:<\\/\\w+>)*<\\/a>', data)\n",
    "    if matches: \n",
    "        for m in matches: \n",
    "            print(\"{0},{1}\".format(m[0].strip(), m[1].strip()))"
   ]
  },
  {
   "cell_type": "markdown",
   "metadata": {},
   "source": [
    "### 2. IP Address Validation\n",
    "https://www.hackerrank.com/challenges/ip-address-validation/problem"
   ]
  },
  {
   "cell_type": "code",
   "execution_count": null,
   "metadata": {},
   "outputs": [],
   "source": [
    "import re\n",
    "\n",
    "for i in range(int(input().strip())):\n",
    "    data = input().strip()\n",
    "    match_ipv4 = re.search('^([0-9]|[01]?[0-9][0-9]|2[0-4][0-9]|25[0-5])(\\\\.([0-9]|[01]?[0-9][0-9]|2[0-4][0-9]|25[0-5])){3}$', data)\n",
    "    match_ipv6 = re.search('^([0-9a-fA-F]{1,4})(:([0-9a-fA-F]{1,4})){7}$', data)\n",
    "    \n",
    "    if match_ipv4 == None and match_ipv6 != None:\n",
    "        ip_ver = \"IPv6\"\n",
    "    elif match_ipv4 != None and match_ipv6 == None:\n",
    "        ip_ver = \"IPv4\"\n",
    "    else:\n",
    "        ip_ver = \"Neither\"\n",
    "\n",
    "    print(ip_ver)"
   ]
  },
  {
   "cell_type": "markdown",
   "metadata": {},
   "source": [
    "### 3. Detect HTML Tags\n",
    "https://www.hackerrank.com/challenges/detect-html-tags/problem"
   ]
  },
  {
   "cell_type": "code",
   "execution_count": null,
   "metadata": {},
   "outputs": [],
   "source": [
    "import re\n",
    "\n",
    "tags = set()\n",
    "for i in range(int(input().strip())):\n",
    "    data = input().strip()\n",
    "    matches = re.findall(r'<\\/?([a-z0-9]+).*?>', data)\n",
    "    if matches:\n",
    "        for m in matches:\n",
    "            tags.add(m.strip())\n",
    "\n",
    "tag_list = list(tags)\n",
    "tag_list.sort()\n",
    "\n",
    "for i in range(len(tag_list)-1):\n",
    "    print(tag_list[i] + ';', end=\"\")\n",
    "    \n",
    "print(tag_list[i+1])"
   ]
  },
  {
   "cell_type": "markdown",
   "metadata": {},
   "source": [
    "### 4. Detect the Email Addresses\n",
    "https://www.hackerrank.com/challenges/detect-the-email-addresses/problem"
   ]
  },
  {
   "cell_type": "code",
   "execution_count": null,
   "metadata": {
    "ExecuteTime": {
     "end_time": "2020-06-13T18:13:11.474137Z",
     "start_time": "2020-06-13T18:13:08.402794Z"
    }
   },
   "outputs": [],
   "source": [
    "import re\n",
    "\n",
    "emails = set()\n",
    "for i in range(int(input().strip())):\n",
    "    data = input().strip()\n",
    "    matches = re.findall(r'([A-Za-z0-9_.]+@[A-Za-z0-9]+(?:\\.[A-Za-z]+)*)', data)\n",
    "    if matches:\n",
    "        for m in matches:\n",
    "            emails.add(m.strip())\n",
    "\n",
    "email_list = list(emails)\n",
    "email_list.sort()\n",
    "\n",
    "for i in range(len(email_list)-1):\n",
    "    print(email_list[i] + ';', end=\"\")\n",
    "    \n",
    "print(email_list[i+1])"
   ]
  },
  {
   "cell_type": "markdown",
   "metadata": {},
   "source": [
    "### 5. Detect the Domain Name\n",
    "https://www.hackerrank.com/challenges/detect-the-domain-name/problem"
   ]
  },
  {
   "cell_type": "code",
   "execution_count": null,
   "metadata": {},
   "outputs": [],
   "source": [
    "import re\n",
    "\n",
    "domains = set()\n",
    "for i in range(int(input().strip())):\n",
    "    data = input().strip()\n",
    "    matches = re.findall(r'https?:\\/\\/(?:ww[w2]\\.)?(([A-Za-z0-9-]+\\.)+([A-Za-z-]+))', data)\n",
    "    if matches:\n",
    "        for m in matches:\n",
    "            domains.add(m[0].strip())\n",
    "\n",
    "domain_list = list(domains)\n",
    "domain_list.sort()\n",
    "\n",
    "for i in range(len(domain_list)-1):\n",
    "    print(domain_list[i] + ';', end=\"\")\n",
    "    \n",
    "print(domain_list[i+1])"
   ]
  },
  {
   "cell_type": "markdown",
   "metadata": {},
   "source": [
    "### 6. Find A Sub-Word\n",
    "https://www.hackerrank.com/challenges/find-substring/problem"
   ]
  },
  {
   "cell_type": "code",
   "execution_count": null,
   "metadata": {},
   "outputs": [],
   "source": [
    "import re\n",
    "\n",
    "data = []\n",
    "for i in range(int(input().strip())):\n",
    "    data.append(input().strip())\n",
    "\n",
    "for i in range(int(input().strip())):\n",
    "    query = input().strip()\n",
    "    matches_count = 0\n",
    "    for e in data:\n",
    "        matches = re.findall(r'[A-Za-z_]'+query+r'[A-Za-z_]', e)\n",
    "        matches_count += len(matches)\n",
    "    \n",
    "    print(matches_count)"
   ]
  },
  {
   "cell_type": "markdown",
   "metadata": {},
   "source": [
    "### 7. Split the Phone Numbers\n",
    "https://www.hackerrank.com/challenges/split-number/problem"
   ]
  },
  {
   "cell_type": "code",
   "execution_count": null,
   "metadata": {
    "ExecuteTime": {
     "end_time": "2020-06-15T06:31:58.761148Z",
     "start_time": "2020-06-15T06:31:50.046448Z"
    }
   },
   "outputs": [],
   "source": [
    "import re\n",
    "\n",
    "for i in range(int(input().strip())):\n",
    "    data = input().strip()\n",
    "    split_str = re.split(r'[\\s-]', data)\n",
    "    print('CountryCode='+split_str[0]+\",LocalAreaCode=\"+split_str[1]+\",Number=\"+split_str[2])"
   ]
  },
  {
   "cell_type": "markdown",
   "metadata": {},
   "source": [
    "### 8. Find a Word\n",
    "https://www.hackerrank.com/challenges/find-a-word/problem"
   ]
  },
  {
   "cell_type": "code",
   "execution_count": null,
   "metadata": {},
   "outputs": [],
   "source": [
    "import re\n",
    "\n",
    "data = []\n",
    "for i in range(int(input().strip())):\n",
    "    data.append(input().strip())\n",
    "\n",
    "for i in range(int(input().strip())):\n",
    "    word = input().strip()\n",
    "    matches_count = 0\n",
    "    for e in data:\n",
    "        matches = re.findall(r'\\b'+word+r'\\b', e)\n",
    "        matches_count += len(matches)\n",
    "    \n",
    "    print(matches_count)"
   ]
  }
 ],
 "metadata": {
  "kernelspec": {
   "display_name": "Python 3",
   "language": "python",
   "name": "python3"
  },
  "language_info": {
   "codemirror_mode": {
    "name": "ipython",
    "version": 3
   },
   "file_extension": ".py",
   "mimetype": "text/x-python",
   "name": "python",
   "nbconvert_exporter": "python",
   "pygments_lexer": "ipython3",
   "version": "3.7.7"
  },
  "toc": {
   "base_numbering": 1,
   "nav_menu": {},
   "number_sections": true,
   "sideBar": true,
   "skip_h1_title": false,
   "title_cell": "Table of Contents",
   "title_sidebar": "Contents",
   "toc_cell": false,
   "toc_position": {},
   "toc_section_display": true,
   "toc_window_display": false
  }
 },
 "nbformat": 4,
 "nbformat_minor": 4
}
