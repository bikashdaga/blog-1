{
 "cells": [
  {
   "cell_type": "markdown",
   "metadata": {},
   "source": [
    "# HackerRank SQL Solutions\n",
    "> My solutions to SQL problems on HackerRank\n",
    "- toc: false\n",
    "- branch: master\n",
    "- badges: true\n",
    "- author: Mayukh Datta\n",
    "- permalink: /hackerrank-sql-solutions/\n",
    "- comments: true\n",
    "- image: https://raw.githubusercontent.com/thecoducer/blog/master/images/tables-dribbble.png\n",
    "- categories: [sql]\n",
    "- hide: false"
   ]
  },
  {
   "cell_type": "markdown",
   "metadata": {},
   "source": [
    "![](https://raw.githubusercontent.com/thecoducer/blog/master/images/tables-dribbble.png)"
   ]
  },
  {
   "cell_type": "markdown",
   "metadata": {},
   "source": [
    "## Problems"
   ]
  },
  {
   "cell_type": "markdown",
   "metadata": {},
   "source": [
    "### 1. Revising the Select Query I\n",
    "https://www.hackerrank.com/challenges/revising-the-select-query/problem"
   ]
  },
  {
   "cell_type": "code",
   "execution_count": null,
   "metadata": {},
   "outputs": [],
   "source": [
    "select * from CITY where COUNTRYCODE='USA' and POPULATION>100000;"
   ]
  },
  {
   "cell_type": "markdown",
   "metadata": {},
   "source": [
    "### 2. Revising the Select Query II\n",
    "https://www.hackerrank.com/challenges/revising-the-select-query-2/problem"
   ]
  },
  {
   "cell_type": "code",
   "execution_count": null,
   "metadata": {
    "ExecuteTime": {
     "end_time": "2020-07-03T07:43:01.796472Z",
     "start_time": "2020-07-03T07:43:01.791590Z"
    }
   },
   "outputs": [],
   "source": [
    "select NAME from CITY where COUNTRYCODE='USA' and POPULATION>120000;"
   ]
  },
  {
   "cell_type": "markdown",
   "metadata": {},
   "source": [
    "### 3. Select all\n",
    "https://www.hackerrank.com/challenges/select-all-sql/problem"
   ]
  },
  {
   "cell_type": "code",
   "execution_count": null,
   "metadata": {},
   "outputs": [],
   "source": [
    "select * from CITY;"
   ]
  },
  {
   "cell_type": "markdown",
   "metadata": {},
   "source": [
    "### 4. Select by ID\n",
    "https://www.hackerrank.com/challenges/select-by-id/problem"
   ]
  },
  {
   "cell_type": "code",
   "execution_count": null,
   "metadata": {},
   "outputs": [],
   "source": [
    "select * from city where id=1661;"
   ]
  },
  {
   "cell_type": "markdown",
   "metadata": {},
   "source": [
    "### 5. Japanese Cities' Attributes\n",
    "https://www.hackerrank.com/challenges/japanese-cities-attributes/problem"
   ]
  },
  {
   "cell_type": "code",
   "execution_count": null,
   "metadata": {},
   "outputs": [],
   "source": [
    "select * from city where countrycode='JPN';"
   ]
  },
  {
   "cell_type": "markdown",
   "metadata": {},
   "source": [
    "### 6. Japanese Cities' Names\n",
    "https://www.hackerrank.com/challenges/japanese-cities-name/problem"
   ]
  },
  {
   "cell_type": "code",
   "execution_count": null,
   "metadata": {},
   "outputs": [],
   "source": [
    "select name from city where countrycode='JPN';"
   ]
  },
  {
   "cell_type": "markdown",
   "metadata": {},
   "source": [
    "### 7. Weather Observation Station 1\n",
    "https://www.hackerrank.com/challenges/weather-observation-station-1/problem"
   ]
  },
  {
   "cell_type": "code",
   "execution_count": null,
   "metadata": {},
   "outputs": [],
   "source": [
    "select city, state from station;"
   ]
  },
  {
   "cell_type": "markdown",
   "metadata": {},
   "source": [
    "### 8. Weather Observation Station 3\n",
    "https://www.hackerrank.com/challenges/weather-observation-station-3/problem"
   ]
  },
  {
   "cell_type": "code",
   "execution_count": null,
   "metadata": {},
   "outputs": [],
   "source": [
    "select distinct city from station where mod(id, 2) = 0;"
   ]
  },
  {
   "cell_type": "markdown",
   "metadata": {},
   "source": [
    "### 9. Weather Observation Station 4\n",
    "https://www.hackerrank.com/challenges/weather-observation-station-4/problem"
   ]
  },
  {
   "cell_type": "code",
   "execution_count": null,
   "metadata": {},
   "outputs": [],
   "source": [
    "select count(city) - count(distinct city) from station;"
   ]
  },
  {
   "cell_type": "markdown",
   "metadata": {},
   "source": [
    "### 10. Weather Observation Station 5\n",
    "https://www.hackerrank.com/challenges/weather-observation-station-5/problem"
   ]
  },
  {
   "cell_type": "code",
   "execution_count": null,
   "metadata": {},
   "outputs": [],
   "source": [
    "select * from(select distinct city,length(city) \n",
    "from station order by length(city) asc,city asc) where rownum=1 \n",
    "union\n",
    "select * from(select distinct city,length(city) \n",
    "from station order by length(city) desc,city desc) where rownum=1;"
   ]
  },
  {
   "cell_type": "markdown",
   "metadata": {},
   "source": [
    "### 11. Weather Observation Station 6\n",
    "https://www.hackerrank.com/challenges/weather-observation-station-6/problem"
   ]
  },
  {
   "cell_type": "code",
   "execution_count": null,
   "metadata": {},
   "outputs": [],
   "source": [
    "select distinct city from station \n",
    "where regexp_like(city, '^[aeiouAEIOU]');"
   ]
  },
  {
   "cell_type": "markdown",
   "metadata": {},
   "source": [
    "### 12. Weather Observation Station 7\n",
    "https://www.hackerrank.com/challenges/weather-observation-station-7/problem"
   ]
  },
  {
   "cell_type": "code",
   "execution_count": null,
   "metadata": {},
   "outputs": [],
   "source": [
    "select distinct city from station \n",
    "where regexp_like(city, '*[aeiouAEIOU]$');"
   ]
  },
  {
   "cell_type": "markdown",
   "metadata": {},
   "source": [
    "### 13. Weather Observation Station 8\n",
    "https://www.hackerrank.com/challenges/weather-observation-station-8/problem"
   ]
  },
  {
   "cell_type": "code",
   "execution_count": null,
   "metadata": {},
   "outputs": [],
   "source": [
    "select distinct city from station \n",
    "where regexp_like(city, '^[aeiouAEIOU].*[aeiouAEIOU]$');"
   ]
  },
  {
   "cell_type": "markdown",
   "metadata": {},
   "source": [
    "### 14. Weather Observation Station 9\n",
    "https://www.hackerrank.com/challenges/weather-observation-station-9/problem"
   ]
  },
  {
   "cell_type": "code",
   "execution_count": null,
   "metadata": {},
   "outputs": [],
   "source": [
    "select distinct city from station \n",
    "where regexp_like(city, '^[^aeiouAEIOU]');"
   ]
  },
  {
   "cell_type": "markdown",
   "metadata": {},
   "source": [
    "### 15. Weather Observation Station 10\n",
    "https://www.hackerrank.com/challenges/weather-observation-station-10/problem"
   ]
  },
  {
   "cell_type": "code",
   "execution_count": null,
   "metadata": {},
   "outputs": [],
   "source": [
    "select distinct city \n",
    "from station \n",
    "where regexp_like(city, '*[^aeiouAEIOU]$');"
   ]
  },
  {
   "cell_type": "markdown",
   "metadata": {},
   "source": [
    "### 16. Weather Observation Station 11\n",
    "https://www.hackerrank.com/challenges/weather-observation-station-11/problem"
   ]
  },
  {
   "cell_type": "code",
   "execution_count": null,
   "metadata": {},
   "outputs": [],
   "source": [
    "select distinct city from station \n",
    "where regexp_like(city, '^[^aeiouAEIOU]|*[^aeiouAEIOU]$');"
   ]
  },
  {
   "cell_type": "markdown",
   "metadata": {},
   "source": [
    "### 17. Weather Observation Station 12\n",
    "https://www.hackerrank.com/challenges/weather-observation-station-12/problem"
   ]
  },
  {
   "cell_type": "code",
   "execution_count": null,
   "metadata": {},
   "outputs": [],
   "source": [
    "select distinct city from station \n",
    "where regexp_like(city, '^[^aeiouAEIOU].*[^aeiouAEIOU]$');"
   ]
  },
  {
   "cell_type": "markdown",
   "metadata": {},
   "source": [
    "### 18. Employee Names\n",
    "https://www.hackerrank.com/challenges/name-of-employees/problem"
   ]
  },
  {
   "cell_type": "code",
   "execution_count": null,
   "metadata": {},
   "outputs": [],
   "source": [
    "select name from employee order by name;"
   ]
  },
  {
   "cell_type": "markdown",
   "metadata": {},
   "source": [
    "### 19. Employee Salaries\n",
    "https://www.hackerrank.com/challenges/salary-of-employees/problem"
   ]
  },
  {
   "cell_type": "code",
   "execution_count": null,
   "metadata": {},
   "outputs": [],
   "source": [
    "select name from employee where salary > 2000 \n",
    "and months < 10 order by employee_id;"
   ]
  },
  {
   "cell_type": "markdown",
   "metadata": {},
   "source": [
    "### 20. Type of Triangle\n",
    "https://www.hackerrank.com/challenges/what-type-of-triangle/problem"
   ]
  },
  {
   "cell_type": "code",
   "execution_count": null,
   "metadata": {},
   "outputs": [],
   "source": [
    "SELECT CASE \n",
    "WHEN A + B > C THEN CASE \n",
    "    WHEN A = B AND B = C THEN 'Equilateral' \n",
    "    WHEN A = B OR B = C OR A = C THEN 'Isosceles' \n",
    "    WHEN A != B OR B != C OR A != C THEN 'Scalene' \n",
    "    END \n",
    "ELSE 'Not A Triangle' \n",
    "END \n",
    "FROM TRIANGLES;"
   ]
  },
  {
   "cell_type": "markdown",
   "metadata": {},
   "source": [
    "### 21. Revising Aggregations - The Count Function\n",
    "https://www.hackerrank.com/challenges/revising-aggregations-the-count-function/problem"
   ]
  },
  {
   "cell_type": "code",
   "execution_count": null,
   "metadata": {},
   "outputs": [],
   "source": [
    "select count(countrycode) from city where population > 100000;"
   ]
  },
  {
   "cell_type": "markdown",
   "metadata": {},
   "source": [
    "### 22. Revising Aggregations - The Sum Function\n",
    "https://www.hackerrank.com/challenges/revising-aggregations-sum/problem"
   ]
  },
  {
   "cell_type": "code",
   "execution_count": null,
   "metadata": {},
   "outputs": [],
   "source": [
    "select sum(population) from city where district = 'California';"
   ]
  },
  {
   "cell_type": "markdown",
   "metadata": {},
   "source": [
    "### 23. Revising Aggregations - Averages\n",
    "https://www.hackerrank.com/challenges/revising-aggregations-the-average-function/problem"
   ]
  },
  {
   "cell_type": "code",
   "execution_count": null,
   "metadata": {},
   "outputs": [],
   "source": [
    "select avg(population) from city where district='California';"
   ]
  },
  {
   "cell_type": "markdown",
   "metadata": {},
   "source": [
    "### 24. Average Population\n",
    "https://www.hackerrank.com/challenges/average-population/problem"
   ]
  },
  {
   "cell_type": "code",
   "execution_count": null,
   "metadata": {},
   "outputs": [],
   "source": [
    "select floor(avg(population)) from city;"
   ]
  },
  {
   "cell_type": "markdown",
   "metadata": {},
   "source": [
    "### 25. Higher Than 75 Marks\n",
    "https://www.hackerrank.com/challenges/more-than-75-marks/problem"
   ]
  },
  {
   "cell_type": "code",
   "execution_count": null,
   "metadata": {},
   "outputs": [],
   "source": [
    "select name from students where marks>75 \n",
    "order by substr(name, -3), id;"
   ]
  },
  {
   "cell_type": "markdown",
   "metadata": {},
   "source": [
    "### 26. Japan Population\n",
    "https://www.hackerrank.com/challenges/japan-population/problem"
   ]
  },
  {
   "cell_type": "code",
   "execution_count": null,
   "metadata": {},
   "outputs": [],
   "source": [
    "select sum(population) from city where countrycode='JPN';"
   ]
  },
  {
   "cell_type": "markdown",
   "metadata": {},
   "source": [
    "### 27. Population Density Difference\n",
    "https://www.hackerrank.com/challenges/population-density-difference/problem"
   ]
  },
  {
   "cell_type": "code",
   "execution_count": null,
   "metadata": {},
   "outputs": [],
   "source": [
    "select max(population) - min(population) from city;"
   ]
  },
  {
   "cell_type": "markdown",
   "metadata": {},
   "source": [
    "### 28. The Blunder\n",
    "https://www.hackerrank.com/challenges/the-blunder/problem"
   ]
  },
  {
   "cell_type": "code",
   "execution_count": null,
   "metadata": {},
   "outputs": [],
   "source": [
    "select ceil(avg(salary) - avg(to_number(replace(to_char(salary), '0')))) \n",
    "from employees;"
   ]
  },
  {
   "cell_type": "markdown",
   "metadata": {},
   "source": [
    "### 29. Top Earners\n",
    "https://www.hackerrank.com/challenges/earnings-of-employees/problem"
   ]
  },
  {
   "cell_type": "code",
   "execution_count": null,
   "metadata": {},
   "outputs": [],
   "source": [
    "select max(months * salary), count(months * salary) \n",
    "from Employee where (months * salary) \n",
    "= (select max(months * salary) from Employee);"
   ]
  },
  {
   "cell_type": "markdown",
   "metadata": {},
   "source": [
    "### 30. Weather Observation Station 2\n",
    "https://www.hackerrank.com/challenges/weather-observation-station-2/problem"
   ]
  },
  {
   "cell_type": "code",
   "execution_count": null,
   "metadata": {},
   "outputs": [],
   "source": [
    "select round(sum(lat_n), 2), round(sum(long_w), 2) \n",
    "from station;"
   ]
  },
  {
   "cell_type": "markdown",
   "metadata": {},
   "source": [
    "### 31. Weather Observation Station 13\n",
    "https://www.hackerrank.com/challenges/weather-observation-station-13/problem"
   ]
  },
  {
   "cell_type": "code",
   "execution_count": null,
   "metadata": {},
   "outputs": [],
   "source": [
    "select round(sum(lat_n), 4) from station \n",
    "where lat_n > 38.7880 and lat_n < 137.2345;"
   ]
  },
  {
   "cell_type": "markdown",
   "metadata": {},
   "source": [
    "### 32. Weather Observation Station 14\n",
    "https://www.hackerrank.com/challenges/weather-observation-station-14/problem"
   ]
  },
  {
   "cell_type": "code",
   "execution_count": null,
   "metadata": {},
   "outputs": [],
   "source": [
    "select round(max(lat_n), 4) from station \n",
    "where lat_n < 137.2345;"
   ]
  },
  {
   "cell_type": "markdown",
   "metadata": {},
   "source": [
    "### 33. Weather Observation Station 15\n",
    "https://www.hackerrank.com/challenges/weather-observation-station-15/problem"
   ]
  },
  {
   "cell_type": "code",
   "execution_count": null,
   "metadata": {},
   "outputs": [],
   "source": [
    "select round(long_w, 4) from station \n",
    "where lat_n = (select max(lat_n) \n",
    "from station where lat_n < 137.2345);"
   ]
  },
  {
   "cell_type": "markdown",
   "metadata": {},
   "source": [
    "### 34. Weather Observation Station 16\n",
    "https://www.hackerrank.com/challenges/weather-observation-station-16/problem"
   ]
  },
  {
   "cell_type": "code",
   "execution_count": null,
   "metadata": {},
   "outputs": [],
   "source": [
    "select round(min(lat_n), 4) \n",
    "from station where lat_n > 38.7780;"
   ]
  },
  {
   "cell_type": "markdown",
   "metadata": {},
   "source": [
    "### 35. Weather Observation Station 17\n",
    "https://www.hackerrank.com/challenges/weather-observation-station-17/problem"
   ]
  },
  {
   "cell_type": "code",
   "execution_count": null,
   "metadata": {},
   "outputs": [],
   "source": [
    "select round(long_w, 4) from station \n",
    "where lat_n = (select min(lat_n) \n",
    "from station where lat_n > 38.7780);"
   ]
  },
  {
   "cell_type": "markdown",
   "metadata": {},
   "source": [
    "### 36. Asian Population\n",
    "https://www.hackerrank.com/challenges/asian-population/problem"
   ]
  },
  {
   "cell_type": "code",
   "execution_count": null,
   "metadata": {},
   "outputs": [],
   "source": [
    "select sum(city.population) \n",
    "from city, country \n",
    "where city.countrycode = country.code \n",
    "and continent='Asia';"
   ]
  },
  {
   "cell_type": "markdown",
   "metadata": {},
   "source": [
    "### 37. African Cities\n",
    "https://www.hackerrank.com/challenges/african-cities/problem"
   ]
  },
  {
   "cell_type": "code",
   "execution_count": null,
   "metadata": {},
   "outputs": [],
   "source": [
    "select city.name from city, country \n",
    "where city.countrycode = country.code \n",
    "and country.continent='Africa';"
   ]
  },
  {
   "cell_type": "markdown",
   "metadata": {},
   "source": [
    "### 38. Average Population of Each Continent\n",
    "https://www.hackerrank.com/challenges/average-population-of-each-continent/problem"
   ]
  },
  {
   "cell_type": "code",
   "execution_count": null,
   "metadata": {},
   "outputs": [],
   "source": [
    "select country.continent, floor(avg(city.population)) \n",
    "from city, country \n",
    "where city.countrycode = country.code \n",
    "group by country.continent;"
   ]
  }
 ],
 "metadata": {
  "kernelspec": {
   "display_name": "Python 3",
   "language": "python",
   "name": "python3"
  },
  "language_info": {
   "codemirror_mode": {
    "name": "ipython",
    "version": 3
   },
   "file_extension": ".py",
   "mimetype": "text/x-python",
   "name": "python",
   "nbconvert_exporter": "python",
   "pygments_lexer": "ipython3",
   "version": "3.7.7"
  },
  "toc": {
   "base_numbering": 1,
   "nav_menu": {},
   "number_sections": true,
   "sideBar": true,
   "skip_h1_title": false,
   "title_cell": "Table of Contents",
   "title_sidebar": "Contents",
   "toc_cell": false,
   "toc_position": {},
   "toc_section_display": true,
   "toc_window_display": false
  }
 },
 "nbformat": 4,
 "nbformat_minor": 4
}
