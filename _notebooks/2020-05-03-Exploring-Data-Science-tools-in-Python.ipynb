{
 "cells": [
  {
   "cell_type": "markdown",
   "metadata": {
    "colab_type": "text",
    "id": "HTh1V1CMFFt_"
   },
   "source": [
    "# Exploring Data Science tools in Python\n",
    "> Libraries like NumPy, SciPy, Matplotlib and Pandas are few powerful libraries to make your life easier.\n",
    "- toc: true\n",
    "- branch: master\n",
    "- badges: true\n",
    "- author: Mayukh Datta\n",
    "- comments: true\n",
    "- image: https://raw.githubusercontent.com/thecoducer/blog/master/images/social-media-data-science-memes.png\n",
    "- categories: [tools, libraries]\n",
    "- hide: false"
   ]
  },
  {
   "cell_type": "markdown",
   "metadata": {},
   "source": [
    "![](https://raw.githubusercontent.com/thecoducer/blog/master/images/social-media-data-science-memes.png)"
   ]
  },
  {
   "cell_type": "markdown",
   "metadata": {},
   "source": [
    "# NumPy"
   ]
  },
  {
   "cell_type": "markdown",
   "metadata": {
    "colab_type": "text",
    "id": "Oe1X7_n9F5yA"
   },
   "source": [
    "NumPy stands for Numerical Python. It is a library for the Python, adding support for large, multi-dimensional arrays and matrices, along with a large collection of high-level mathematical functions to operate on these arrays.\n",
    "\n",
    "## Why Numpy is faster than lists?\n",
    "\n",
    "- Numpy is faster than lists since Numpy elements have fixed data type.\n",
    "- Numpy has contiguous memory\n",
    "- No type checking when reading objects\n",
    "- Read bytes of memory faster\n",
    "\n",
    "## Applications of Numpy:\n",
    "\n",
    "- Mathematics (MATLAB replacement)\n",
    "- Plotting (using matloptlib)\n",
    "- Backend (Pandas, Connect 4, Digital photography)\n",
    "- Machine learning (Numpy helps to give a foundation to tensors)"
   ]
  },
  {
   "cell_type": "code",
   "execution_count": 68,
   "metadata": {
    "ExecuteTime": {
     "end_time": "2020-05-04T07:51:57.159742Z",
     "start_time": "2020-05-04T07:51:57.153850Z"
    }
   },
   "outputs": [],
   "source": [
    "import numpy as np"
   ]
  },
  {
   "cell_type": "markdown",
   "metadata": {
    "colab_type": "text",
    "id": "rdtCvns2JeEC"
   },
   "source": [
    "## One-dimensional array"
   ]
  },
  {
   "cell_type": "code",
   "execution_count": 69,
   "metadata": {
    "ExecuteTime": {
     "end_time": "2020-05-04T07:51:57.252243Z",
     "start_time": "2020-05-04T07:51:57.166184Z"
    },
    "colab": {
     "base_uri": "https://localhost:8080/",
     "height": 34
    },
    "colab_type": "code",
    "id": "IUCUXiYeIwdp",
    "outputId": "fbbc58e5-7b49-465d-c3c5-dd78758c9cc3"
   },
   "outputs": [
    {
     "name": "stdout",
     "output_type": "stream",
     "text": [
      "[45 58 96]\n"
     ]
    }
   ],
   "source": [
    "one = np.array([45, 58, 96], dtype=\"int16\")\n",
    "print(one)"
   ]
  },
  {
   "cell_type": "markdown",
   "metadata": {},
   "source": [
    "- `dtype` explicitly defines the datatype for all elements in a NumPy array. Read more https://www.geeksforgeeks.org/data-type-object-dtype-numpy-python/"
   ]
  },
  {
   "cell_type": "markdown",
   "metadata": {
    "colab_type": "text",
    "id": "UHeS2yu6Jh85"
   },
   "source": [
    "## Two-dimensional array"
   ]
  },
  {
   "cell_type": "code",
   "execution_count": 70,
   "metadata": {
    "ExecuteTime": {
     "end_time": "2020-05-04T07:51:57.321620Z",
     "start_time": "2020-05-04T07:51:57.255123Z"
    },
    "colab": {
     "base_uri": "https://localhost:8080/",
     "height": 50
    },
    "colab_type": "code",
    "id": "Bk60H1SkJPpI",
    "outputId": "e782ab2e-bcd3-49fe-fbe5-87e86b410536"
   },
   "outputs": [
    {
     "name": "stdout",
     "output_type": "stream",
     "text": [
      "[[4 5 8]\n",
      " [2 7 6]]\n"
     ]
    }
   ],
   "source": [
    "two = np.array([[4, 5, 8], [2, 7, 6]]) # list of lists to 2D array \n",
    "print(two)"
   ]
  },
  {
   "cell_type": "markdown",
   "metadata": {
    "colab_type": "text",
    "id": "aHaojb07Jljw"
   },
   "source": [
    "## Three-dimensional array"
   ]
  },
  {
   "cell_type": "code",
   "execution_count": 71,
   "metadata": {
    "ExecuteTime": {
     "end_time": "2020-05-04T07:51:57.385518Z",
     "start_time": "2020-05-04T07:51:57.327358Z"
    },
    "colab": {
     "base_uri": "https://localhost:8080/",
     "height": 67
    },
    "colab_type": "code",
    "id": "-AXdfeetJnpI",
    "outputId": "3e0dd23d-159d-4327-9ad2-c209fd83cb48"
   },
   "outputs": [
    {
     "name": "stdout",
     "output_type": "stream",
     "text": [
      "[[[1 2]\n",
      "  [3 4]\n",
      "  [1 9]\n",
      "  [6 0]]\n",
      "\n",
      " [[5 6]\n",
      "  [3 4]\n",
      "  [7 8]\n",
      "  [7 4]]\n",
      "\n",
      " [[5 2]\n",
      "  [9 8]\n",
      "  [6 0]\n",
      "  [5 6]]]\n"
     ]
    }
   ],
   "source": [
    "three = np.array([[[1, 2], [3, 4], [1, 9], [6, 0]], \n",
    "                  [[5, 6], [3, 4], [7, 8], [7, 4]],\n",
    "                  [[5, 2], [9, 8], [6, 0], [5, 6]]])\n",
    "print(three)"
   ]
  },
  {
   "cell_type": "markdown",
   "metadata": {
    "ExecuteTime": {
     "end_time": "2020-05-04T07:36:35.243360Z",
     "start_time": "2020-05-04T07:36:35.237251Z"
    }
   },
   "source": [
    "## Dimension?"
   ]
  },
  {
   "cell_type": "code",
   "execution_count": 72,
   "metadata": {
    "ExecuteTime": {
     "end_time": "2020-05-04T07:51:57.476659Z",
     "start_time": "2020-05-04T07:51:57.393556Z"
    },
    "colab": {
     "base_uri": "https://localhost:8080/",
     "height": 34
    },
    "colab_type": "code",
    "id": "qCdShvWFJ51x",
    "outputId": "94ef8e4d-c8a6-44c0-eeb3-30e0b932e322"
   },
   "outputs": [
    {
     "name": "stdout",
     "output_type": "stream",
     "text": [
      "1\n",
      "2\n",
      "3\n"
     ]
    }
   ],
   "source": [
    "print(one.ndim)\n",
    "print(two.ndim)\n",
    "print(three.ndim)"
   ]
  },
  {
   "cell_type": "markdown",
   "metadata": {},
   "source": [
    "## Shape?"
   ]
  },
  {
   "cell_type": "code",
   "execution_count": 73,
   "metadata": {
    "ExecuteTime": {
     "end_time": "2020-05-04T07:51:57.542703Z",
     "start_time": "2020-05-04T07:51:57.480655Z"
    },
    "colab": {
     "base_uri": "https://localhost:8080/",
     "height": 34
    },
    "colab_type": "code",
    "id": "WEvsNBNeJ-Jh",
    "outputId": "4c94660e-f631-4e44-ec4e-212aeecf503a"
   },
   "outputs": [
    {
     "name": "stdout",
     "output_type": "stream",
     "text": [
      "(3,)\n",
      "(2, 3)\n",
      "(3, 4, 2)\n"
     ]
    }
   ],
   "source": [
    "print(one.shape)\n",
    "print(two.shape) # row * column\n",
    "print(three.shape) # row * column * depth"
   ]
  },
  {
   "cell_type": "markdown",
   "metadata": {},
   "source": [
    "## Datatype?"
   ]
  },
  {
   "cell_type": "code",
   "execution_count": 74,
   "metadata": {
    "ExecuteTime": {
     "end_time": "2020-05-04T07:51:57.608795Z",
     "start_time": "2020-05-04T07:51:57.547191Z"
    },
    "colab": {
     "base_uri": "https://localhost:8080/",
     "height": 50
    },
    "colab_type": "code",
    "id": "t59HgBMDKHwZ",
    "outputId": "f8d456b2-783b-464e-d29c-2cfc3ba8186a"
   },
   "outputs": [
    {
     "name": "stdout",
     "output_type": "stream",
     "text": [
      "int16\n",
      "int64\n"
     ]
    }
   ],
   "source": [
    "print(one.dtype)\n",
    "print(three.dtype)"
   ]
  },
  {
   "cell_type": "markdown",
   "metadata": {
    "ExecuteTime": {
     "end_time": "2020-05-04T07:50:40.551848Z",
     "start_time": "2020-05-04T07:50:40.548115Z"
    }
   },
   "source": [
    "## Bytes of memory each dtype consumes"
   ]
  },
  {
   "cell_type": "code",
   "execution_count": 88,
   "metadata": {
    "ExecuteTime": {
     "end_time": "2020-05-04T07:52:25.366939Z",
     "start_time": "2020-05-04T07:52:25.360416Z"
    },
    "colab": {
     "base_uri": "https://localhost:8080/",
     "height": 67
    },
    "colab_type": "code",
    "id": "QjzLarEcKzbb",
    "outputId": "c25b5b98-e1fd-4b5a-885a-fc7a6669d73a"
   },
   "outputs": [
    {
     "name": "stdout",
     "output_type": "stream",
     "text": [
      "2\n",
      "8\n"
     ]
    }
   ],
   "source": [
    "print(one.itemsize)\n",
    "print(three.itemsize)\n",
    "# 2 bytes for int16\n",
    "# 4 bytes for int32\n",
    "# 8 bytes for int64, float "
   ]
  },
  {
   "cell_type": "markdown",
   "metadata": {},
   "source": [
    "## Length?"
   ]
  },
  {
   "cell_type": "code",
   "execution_count": 89,
   "metadata": {
    "ExecuteTime": {
     "end_time": "2020-05-04T07:54:50.172303Z",
     "start_time": "2020-05-04T07:54:50.166967Z"
    },
    "colab": {
     "base_uri": "https://localhost:8080/",
     "height": 67
    },
    "colab_type": "code",
    "id": "l3RTAgiPMBnb",
    "outputId": "a2d03f00-6b97-4758-ec1e-7f581cd0f7c5",
    "scrolled": true
   },
   "outputs": [
    {
     "name": "stdout",
     "output_type": "stream",
     "text": [
      "3\n",
      "6\n",
      "24\n"
     ]
    }
   ],
   "source": [
    "# Get length of np array\n",
    "print(one.size)\n",
    "print(two.size)\n",
    "print(three.size)"
   ]
  },
  {
   "cell_type": "markdown",
   "metadata": {},
   "source": [
    "## Total bytes consumed by a container"
   ]
  },
  {
   "cell_type": "code",
   "execution_count": 94,
   "metadata": {
    "ExecuteTime": {
     "end_time": "2020-05-04T07:58:26.518538Z",
     "start_time": "2020-05-04T07:58:26.508839Z"
    },
    "colab": {
     "base_uri": "https://localhost:8080/",
     "height": 50
    },
    "colab_type": "code",
    "id": "LRI_bHmSMKpJ",
    "outputId": "b05d723d-652f-4ef9-b05a-e24916e0c156"
   },
   "outputs": [
    {
     "name": "stdout",
     "output_type": "stream",
     "text": [
      "24 * 8 = 192\n",
      "192\n"
     ]
    }
   ],
   "source": [
    "print(three.size, \"*\", three.itemsize, \"=\", three.size * three.itemsize)\n",
    "\n",
    "# other way to do this\n",
    "print(three.nbytes)"
   ]
  },
  {
   "cell_type": "markdown",
   "metadata": {
    "colab_type": "text",
    "id": "pKC4KP2tM0A8"
   },
   "source": [
    "## Acccessing/Changing specific elements, rows, columns etc."
   ]
  },
  {
   "cell_type": "code",
   "execution_count": 96,
   "metadata": {
    "ExecuteTime": {
     "end_time": "2020-05-04T07:58:52.146053Z",
     "start_time": "2020-05-04T07:58:52.140312Z"
    },
    "colab": {
     "base_uri": "https://localhost:8080/",
     "height": 50
    },
    "colab_type": "code",
    "id": "eZp1RGpdM7JR",
    "outputId": "7d3e603b-f5c0-47b4-92e4-f87e31fe5802"
   },
   "outputs": [
    {
     "name": "stdout",
     "output_type": "stream",
     "text": [
      "[[ 1  2  3  4  5  6  7]\n",
      " [ 8  9 10 11 12 13 14]]\n"
     ]
    }
   ],
   "source": [
    "d = np.array([[1, 2, 3, 4, 5, 6, 7], [8, 9, 10, 11, 12, 13, 14]])\n",
    "print(d)"
   ]
  },
  {
   "cell_type": "code",
   "execution_count": 79,
   "metadata": {
    "ExecuteTime": {
     "end_time": "2020-05-04T07:51:57.995332Z",
     "start_time": "2020-05-04T07:51:57.916774Z"
    },
    "colab": {
     "base_uri": "https://localhost:8080/",
     "height": 34
    },
    "colab_type": "code",
    "id": "GiOXI1QvNUML",
    "outputId": "728718be-296d-4614-defe-f53aee07cecf"
   },
   "outputs": [
    {
     "data": {
      "text/plain": [
       "4"
      ]
     },
     "execution_count": 79,
     "metadata": {},
     "output_type": "execute_result"
    }
   ],
   "source": [
    "# Get a specific element - [r, c]\n",
    "d[0, 3]"
   ]
  },
  {
   "cell_type": "code",
   "execution_count": 80,
   "metadata": {
    "ExecuteTime": {
     "end_time": "2020-05-04T07:51:58.072062Z",
     "start_time": "2020-05-04T07:51:57.998837Z"
    },
    "colab": {
     "base_uri": "https://localhost:8080/",
     "height": 50
    },
    "colab_type": "code",
    "id": "7NDSWxvWWT14",
    "outputId": "ae92eeff-30df-49d8-9b86-ec1c9bb8787d"
   },
   "outputs": [
    {
     "name": "stdout",
     "output_type": "stream",
     "text": [
      "[1 2 3 4 5 6 7]\n",
      "[2 3 4 5 6]\n"
     ]
    }
   ],
   "source": [
    "# Get a specific row\n",
    "print(d[0, :]) # first row\n",
    "print(d[0, 1:6])"
   ]
  },
  {
   "cell_type": "code",
   "execution_count": 81,
   "metadata": {
    "ExecuteTime": {
     "end_time": "2020-05-04T07:51:58.148153Z",
     "start_time": "2020-05-04T07:51:58.074850Z"
    },
    "colab": {
     "base_uri": "https://localhost:8080/",
     "height": 34
    },
    "colab_type": "code",
    "id": "NEUat4y6WzKE",
    "outputId": "f0fca496-f11d-40e7-ed57-0dfc99c1da57"
   },
   "outputs": [
    {
     "name": "stdout",
     "output_type": "stream",
     "text": [
      "[ 3 10]\n"
     ]
    }
   ],
   "source": [
    "# Get a specific column\n",
    "print(d[:, 2]) # third column"
   ]
  },
  {
   "cell_type": "code",
   "execution_count": 82,
   "metadata": {
    "ExecuteTime": {
     "end_time": "2020-05-04T07:51:58.247814Z",
     "start_time": "2020-05-04T07:51:58.151341Z"
    },
    "colab": {
     "base_uri": "https://localhost:8080/",
     "height": 34
    },
    "colab_type": "code",
    "id": "lBlbkl-TXVhY",
    "outputId": "0d8c4bae-caab-4210-d32e-dd8311baab2e"
   },
   "outputs": [
    {
     "name": "stdout",
     "output_type": "stream",
     "text": [
      "[2 4 6]\n"
     ]
    }
   ],
   "source": [
    "# Getting little more fancy [startindex:endindex:stepsize]\n",
    "print(d[0, 1:-1:2])"
   ]
  },
  {
   "cell_type": "code",
   "execution_count": 83,
   "metadata": {
    "ExecuteTime": {
     "end_time": "2020-05-04T07:51:58.313116Z",
     "start_time": "2020-05-04T07:51:58.250983Z"
    },
    "colab": {
     "base_uri": "https://localhost:8080/",
     "height": 50
    },
    "colab_type": "code",
    "id": "9p30xAkgbzSd",
    "outputId": "03712706-280e-4854-939a-4101babb2ced"
   },
   "outputs": [
    {
     "name": "stdout",
     "output_type": "stream",
     "text": [
      "[[ 1  2  3  4  5  6  7]\n",
      " [ 8  9 10 11 55 13 14]]\n"
     ]
    }
   ],
   "source": [
    "# Replace elements\n",
    "d[1, 4] = 55\n",
    "print(d)"
   ]
  },
  {
   "cell_type": "code",
   "execution_count": 84,
   "metadata": {
    "ExecuteTime": {
     "end_time": "2020-05-04T07:51:58.409362Z",
     "start_time": "2020-05-04T07:51:58.316324Z"
    },
    "colab": {
     "base_uri": "https://localhost:8080/",
     "height": 50
    },
    "colab_type": "code",
    "id": "Pop-MjeBdJtn",
    "outputId": "f6e07393-201a-42ff-8924-295fd50c9394"
   },
   "outputs": [
    {
     "name": "stdout",
     "output_type": "stream",
     "text": [
      "[[  1   2 117   4   5   6   7]\n",
      " [  8   9  17  11  55  13  14]]\n"
     ]
    }
   ],
   "source": [
    "d[:, 2] = [117, 17]\n",
    "print(d)"
   ]
  },
  {
   "cell_type": "code",
   "execution_count": 85,
   "metadata": {
    "ExecuteTime": {
     "end_time": "2020-05-04T07:51:58.493540Z",
     "start_time": "2020-05-04T07:51:58.412432Z"
    },
    "colab": {
     "base_uri": "https://localhost:8080/",
     "height": 101
    },
    "colab_type": "code",
    "id": "jyrFD_zIdWEV",
    "outputId": "dfb8fde5-97c2-4a11-a839-3dc2f78479a6"
   },
   "outputs": [
    {
     "name": "stdout",
     "output_type": "stream",
     "text": [
      "[[[1 2]\n",
      "  [3 4]]\n",
      "\n",
      " [[5 6]\n",
      "  [7 8]]]\n"
     ]
    }
   ],
   "source": [
    "# Just another matrix\n",
    "f = np.array([[[1, 2], [3, 4]], [[5, 6], [7, 8]]])\n",
    "print(f)"
   ]
  },
  {
   "cell_type": "code",
   "execution_count": 86,
   "metadata": {
    "ExecuteTime": {
     "end_time": "2020-05-04T07:51:58.569380Z",
     "start_time": "2020-05-04T07:51:58.497729Z"
    },
    "colab": {
     "base_uri": "https://localhost:8080/",
     "height": 34
    },
    "colab_type": "code",
    "id": "hvvVl86jdoyo",
    "outputId": "c532020b-99cf-40f1-e467-954e76a3159b"
   },
   "outputs": [
    {
     "name": "stdout",
     "output_type": "stream",
     "text": [
      "3\n"
     ]
    }
   ],
   "source": [
    "print(f[0, 1, 0]) # accessing a elements is easy if we do it pathwise"
   ]
  },
  {
   "cell_type": "code",
   "execution_count": 87,
   "metadata": {
    "ExecuteTime": {
     "end_time": "2020-05-04T07:51:58.634069Z",
     "start_time": "2020-05-04T07:51:58.572698Z"
    },
    "colab": {
     "base_uri": "https://localhost:8080/",
     "height": 101
    },
    "colab_type": "code",
    "id": "Grc3e0mNd4O2",
    "outputId": "dad92e67-2c81-482f-b250-3167b7d34fe8"
   },
   "outputs": [
    {
     "name": "stdout",
     "output_type": "stream",
     "text": [
      "[[[1 2]\n",
      "  [3 4]]\n",
      "\n",
      " [[5 6]\n",
      "  [7 8]]]\n"
     ]
    }
   ],
   "source": [
    "print(f[:, ])"
   ]
  },
  {
   "cell_type": "markdown",
   "metadata": {},
   "source": [
    "## Transpose "
   ]
  },
  {
   "cell_type": "code",
   "execution_count": null,
   "metadata": {},
   "outputs": [],
   "source": []
  },
  {
   "cell_type": "markdown",
   "metadata": {},
   "source": [
    "How to a transpose row vector? Will it change into a column vector? Read here https://stackoverflow.com/a/5954747/7936081"
   ]
  }
 ],
 "metadata": {
  "accelerator": "GPU",
  "colab": {
   "name": "Learning-Numpy.ipynb",
   "provenance": [],
   "toc_visible": true
  },
  "kernelspec": {
   "display_name": "Python 3",
   "language": "python",
   "name": "python3"
  },
  "language_info": {
   "codemirror_mode": {
    "name": "ipython",
    "version": 3
   },
   "file_extension": ".py",
   "mimetype": "text/x-python",
   "name": "python",
   "nbconvert_exporter": "python",
   "pygments_lexer": "ipython3",
   "version": "3.7.7"
  },
  "toc": {
   "base_numbering": 1,
   "nav_menu": {},
   "number_sections": true,
   "sideBar": true,
   "skip_h1_title": false,
   "title_cell": "Table of Contents",
   "title_sidebar": "Contents",
   "toc_cell": false,
   "toc_position": {},
   "toc_section_display": true,
   "toc_window_display": true
  }
 },
 "nbformat": 4,
 "nbformat_minor": 1
}
